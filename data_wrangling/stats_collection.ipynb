{
 "cells": [
  {
   "cell_type": "code",
   "execution_count": null,
   "metadata": {},
   "outputs": [],
   "source": [
    "import json\n",
    "import operator\n",
    "import pandas as pd\n",
    "import re"
   ]
  },
  {
   "cell_type": "code",
   "execution_count": null,
   "metadata": {},
   "outputs": [],
   "source": [
    "# Data should be downloaded from: https://github.com/metmuseum/openaccess/blob/master/MetObjects.csv\n",
    "# Remember to update \"Last Updated\" date in HTML page\n",
    "# Last commit pulled: 2019-11-18\n",
    "\n",
    "df = pd.read_csv(\"MetObjects.csv\",\n",
    "    dtype={\n",
    "        'Object Number': str,\n",
    "        'Is Highlight': bool,\n",
    "        'Is Public Domain': bool,\n",
    "        'Object ID': str,\n",
    "        'Department': str,\n",
    "        'Object Name': str,\n",
    "        'Title': str,\n",
    "        'Culture': str,\n",
    "        'Period': str,\n",
    "        'Dynasty': str,\n",
    "        'Reign': str,\n",
    "        'Portfolio': str,\n",
    "        'Artist Role': str,\n",
    "        'Artist Prefix': str,\n",
    "        'Artist Display Name': str,\n",
    "        'Artist Display Bio': str,\n",
    "        'Artist Suffix': str,\n",
    "        'Artist Alpha Sort': str,\n",
    "        'Artist Nationality': str,\n",
    "        'Artist Begin Date': str,\n",
    "        'Artist End Date': str,\n",
    "        'Object Date': str,\n",
    "        'Object Begin Date': str,\n",
    "        'Object End Date': str,\n",
    "        'Medium': str,\n",
    "        'Dimensions': str,\n",
    "        'Credit Line': str,\n",
    "        'Geography Type': str,\n",
    "        'City': str,\n",
    "        'State': str,\n",
    "        'County': str,\n",
    "        'Country': str,\n",
    "        'Region': str,\n",
    "        'Subregion': str,\n",
    "        'Locale': str,\n",
    "        'Locus': str,\n",
    "        'Excavation': str,\n",
    "        'River': str,\n",
    "        'Classification': str,\n",
    "        'Rights and Reproduction': str,\n",
    "        'Link Resource': str,\n",
    "        'Metadata Date': str,\n",
    "        'Repository': str,\n",
    "        'Tags': str\n",
    "    }\n",
    ")"
   ]
  },
  {
   "cell_type": "code",
   "execution_count": null,
   "metadata": {},
   "outputs": [],
   "source": [
    "df.describe()"
   ]
  },
  {
   "cell_type": "code",
   "execution_count": null,
   "metadata": {},
   "outputs": [],
   "source": [
    "trimmed = df.loc[:, ['Is Highlight', 'Is Public Domain', 'Object ID', 'Department', 'Title', 'Culture', 'Medium', 'Link Resource']]\n",
    "trimmed = trimmed.fillna(value={'Department':'Unknown','Culture':'Unknown'})\n",
    "trimmed"
   ]
  },
  {
   "cell_type": "code",
   "execution_count": null,
   "metadata": {},
   "outputs": [],
   "source": [
    "trimmed.describe()"
   ]
  },
  {
   "cell_type": "code",
   "execution_count": null,
   "metadata": {},
   "outputs": [],
   "source": [
    "stats = {}\n",
    "stats[\"total\"] = len(trimmed.index)\n",
    "stats[\"isHighlight\"] = len(trimmed.loc[lambda df: df['Is Highlight'] == True].index)\n",
    "stats[\"isPublicDomain\"] = len(trimmed.loc[lambda df: df['Is Public Domain'] == True].index)\n",
    "stats[\"cultures\"] = len(trimmed[\"Culture\"].unique())\n",
    "stats[\"numDepts\"] = len(trimmed[\"Department\"].unique())\n",
    "\n",
    "stats"
   ]
  },
  {
   "cell_type": "code",
   "execution_count": null,
   "metadata": {},
   "outputs": [],
   "source": [
    "depts = trimmed[\"Department\"].unique()\n",
    "len(depts)"
   ]
  },
  {
   "cell_type": "code",
   "execution_count": null,
   "metadata": {},
   "outputs": [],
   "source": [
    "depts"
   ]
  },
  {
   "cell_type": "code",
   "execution_count": null,
   "metadata": {},
   "outputs": [],
   "source": [
    "stats[\"depts\"] = {}\n",
    "\n",
    "for d in depts:\n",
    "    dStats = trimmed.loc[lambda df: df['Department'] == d]\n",
    "    stats[\"depts\"][d] = {}\n",
    "    stats[\"depts\"][d][\"total\"] = len(dStats.index)\n",
    "    stats[\"depts\"][d][\"isHighlight\"] = len(dStats.loc[lambda df: df['Is Highlight'] == True].index)\n",
    "    stats[\"depts\"][d][\"isPublicDomain\"] = len(dStats.loc[lambda df: df['Is Public Domain'] == True].index)\n",
    "    stats[\"depts\"][d][\"pdHighlights\"] = list(map(lambda url: url.replace('https://','http://').replace('http://www.metmuseum.org/art/collection/search/',''), list(dStats.loc[lambda df: ((df['Is Public Domain'] == True) & (df['Is Highlight'] == True))][\"Link Resource\"].unique())))\n",
    "    stats[\"depts\"][d][\"cultures\"] = len(dStats[\"Culture\"].unique())\n",
    "    stats[\"depts\"][d][\"mediums\"] = len(dStats[\"Medium\"].unique())\n",
    "    \n",
    "    # Dept. culture stats\n",
    "    cultures = dStats[\"Culture\"].unique()\n",
    "    tmpO = {}\n",
    "    for c in cultures:\n",
    "        # Clean up culture names (deduplicates similar and weird names)\n",
    "        # Whoever is in the Arms & Armor department, you're making my life hard\n",
    "        # This code looks awful because it is because it works\n",
    "        simpleC = c\n",
    "        if d == \"Arms and Armor\":\n",
    "            simpleC = re.sub(r\"(; )?(crossbow|belt|[bB]lade|[hH]ilt|saddle|collar|bowl|plate|scabbard|staff|flint|guard|gorget|horn|helmet|greaves|sabatons|lever|quiver|[bB]arrels?|[kK]nife|cuirass|armor|spurs|sheath| made | bit |^bit | j |04\\.3\\.326|cranequin|mail shirt|harness|fittings|lock|gun|spearhead|[mM]ounts?|[gG]rip|restorations|in the style of [a-zA-Z]+|decoration on|decorated)( and)?\",'',simpleC)\n",
    "            simpleC = simpleC.replace(';', ' and')\n",
    "        simpleC = re.sub(\n",
    "            r\"((for (((the )?[a-zA-Z]+)|export) market)|(((,)? )?([pP]ossibl[ey]|[pP]robably|provincial|[pP]ossilby|[nN]\\.[pP]\\.|frame|fabric|unknown|Archaeological Complex)(,)?)|([nN]/[aA]\\.?))\",\n",
    "            '',\n",
    "            simpleC.split(' (')[0].split(':')[0].split(';')[0].split('with')[0].split('district')[0].split('upon')[0].replace('?','').strip()\n",
    "            ).replace('china','Chinese').replace('So. German','German').replace('Germany','German')\n",
    "        if d == \"Arms and Armor\":\n",
    "            simpleC = simpleC.strip(',').strip().replace(',', ' and')\n",
    "        simpleC = simpleC.replace('()', '').replace('  ', ' ').replace('  ', ' ').replace('  ', ' ').replace('and and', 'and').replace('and and', 'and').replace('  ', ' ').replace('  ', ' ').replace('  ', ' ').strip().strip(',').strip()\n",
    "        if d != \"Arms and Armor\":\n",
    "            simpleC = simpleC.split(',')[0].strip()\n",
    "            simpleC = re.sub(r\"^and\", '', simpleC).strip()\n",
    "        if simpleC == '':\n",
    "            simpleC = 'Unknown'\n",
    "        \n",
    "        # Collect by cleaned names\n",
    "        cNum = len(dStats.loc[lambda df: df['Culture'] == c].index)\n",
    "        if simpleC in tmpO:\n",
    "            tmpO[simpleC] += cNum\n",
    "        else:\n",
    "            tmpO[simpleC] = cNum\n",
    "\n",
    "    # Combine cultures with <1% of objects in department b/c not stat significant\n",
    "    tmpN = {\"<1% ea.\": 0}\n",
    "    for simpleC in tmpO:\n",
    "        if simpleC == \"Unknown\" or (tmpO[simpleC] != 1 and (float(tmpO[simpleC]) / float(len(dStats.index))) >= (0.01)):\n",
    "            tmpN[simpleC] = tmpO[simpleC]\n",
    "        else:\n",
    "            tmpN[\"<1% ea.\"] += tmpO[simpleC]\n",
    "    if tmpN[\"<1% ea.\"] > 1:\n",
    "        tmpO = tmpN\n",
    "    \n",
    "    # Sort\n",
    "    tmpList = sorted(tmpO.items(), key=lambda kv: kv[1], reverse=True)\n",
    "    stats[\"depts\"][d][\"culturesSimplified\"] = {}\n",
    "    for k,v in tmpList:\n",
    "        stats[\"depts\"][d][\"culturesSimplified\"][k] = v\n",
    "    \n",
    "stats"
   ]
  },
  {
   "cell_type": "code",
   "execution_count": null,
   "metadata": {},
   "outputs": [],
   "source": [
    "with open('stats.json', 'w') as f:\n",
    "    print(json.dumps(stats), file=f)"
   ]
  },
  {
   "cell_type": "code",
   "execution_count": null,
   "metadata": {},
   "outputs": [],
   "source": []
  }
 ],
 "metadata": {
  "kernelspec": {
   "display_name": "Python 3",
   "language": "python",
   "name": "python3"
  },
  "language_info": {
   "codemirror_mode": {
    "name": "ipython",
    "version": 3
   },
   "file_extension": ".py",
   "mimetype": "text/x-python",
   "name": "python",
   "nbconvert_exporter": "python",
   "pygments_lexer": "ipython3",
   "version": "3.7.5"
  }
 },
 "nbformat": 4,
 "nbformat_minor": 4
}
